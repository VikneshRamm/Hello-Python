{
 "cells": [
  {
   "cell_type": "code",
   "execution_count": 1,
   "metadata": {
    "collapsed": false
   },
   "outputs": [
    {
     "name": "stdout",
     "output_type": "stream",
     "text": [
      "Hello World\n"
     ]
    }
   ],
   "source": [
    "print 'Hello World'"
   ]
  },
  {
   "cell_type": "code",
   "execution_count": 8,
   "metadata": {
    "collapsed": false
   },
   "outputs": [
    {
     "name": "stdout",
     "output_type": "stream",
     "text": [
      "Hey There 1\n"
     ]
    }
   ],
   "source": [
    "def fun():\n",
    "    print 'Hey There 1'\n",
    "fun()"
   ]
  },
  {
   "cell_type": "code",
   "execution_count": null,
   "metadata": {
    "collapsed": true
   },
   "outputs": [],
   "source": []
  },
  {
   "cell_type": "code",
   "execution_count": 19,
   "metadata": {
    "collapsed": false
   },
   "outputs": [
    {
     "name": "stdout",
     "output_type": "stream",
     "text": [
      "[0 1 2 3 4 5 6 7 8 9]\n",
      "[ 2.3   5.69]\n",
      "[[ 0  1  2  3  4]\n",
      " [ 5  6  7  8  9]\n",
      " [10 11 12 13 14]\n",
      " [15 16 17 18 19]\n",
      " [20 21 22 23 24]]\n"
     ]
    }
   ],
   "source": [
    "import numpy as np\n",
    "a = np.arange(10)\n",
    "print a\n",
    "print np.loadtxt(r'D:\\Viknesh Ramm\\Python Programs\\file.txt')\n",
    "data = np.array([2.3,5.69])\n",
    "np.savetxt(r'D:\\Viknesh Ramm\\Python Programs\\file.txt',data)\n",
    "print np.arange(25).reshape(5,5)\n"
   ]
  },
  {
   "cell_type": "code",
   "execution_count": 21,
   "metadata": {
    "collapsed": true
   },
   "outputs": [],
   "source": [
    "%matplotlib inline"
   ]
  },
  {
   "cell_type": "code",
   "execution_count": 28,
   "metadata": {
    "collapsed": false
   },
   "outputs": [
    {
     "data": {
      "image/png": "[encoded data removed]",
      "text/plain": [
       "<matplotlib.figure.Figure at 0x6ae1cc0>"
      ]
     },
     "metadata": {},
     "output_type": "display_data"
    }
   ],
   "source": [
    "from matplotlib import pyplot as plt\n",
    "import numpy as np\n",
    "import time\n",
    "a = np.random.rand(10)\n",
    "b = range(10)\n",
    "#plt.plot(b,a)\n",
    "plt.bar(b,a)\n",
    "plt.show()\n"
   ]
  },
  {
   "cell_type": "code",
   "execution_count": null,
   "metadata": {
    "collapsed": true
   },
   "outputs": [],
   "source": [
    "'''Link to the question:https://www.hackerrank.com/challenges/kangaroo/copy-from/25880614(Easy)'''\n",
    "import sys\n",
    "x1,v1,x2,v2 = raw_input().strip().split(' ')\n",
    "x1,v1,x2,v2 = [int(x1),int(v1),int(x2),int(v2)]\n",
    "try:\n",
    "    if x2 >= x1 and v2 > v1:\n",
    "        print 'NO'\n",
    "    elif abs(int(x1-x2)) % abs(int(v1- v2)) == 0:\n",
    "        print 'YES'\n",
    "    else:\n",
    "        print 'NO'\n",
    "except:\n",
    "    print 'NO'"
   ]
  },
  {
   "cell_type": "code",
   "execution_count": null,
   "metadata": {
    "collapsed": true
   },
   "outputs": [],
   "source": [
    "''' https://www.hackerrank.com/challenges/bigger-is-greater/copy-from/26027453 \n",
    "Link for the question(Medium) '''\n",
    "\n",
    "def check(char,*lit):\n",
    "    '''Checks whether a character in lit is lexichographically\n",
    "    greater than char and returns it if present'''\n",
    "    for i in sorted(lit[0]):\n",
    "        if i > char:\n",
    "            return i\n",
    "    return 'none'    \n",
    "n = input()\n",
    "li = []\n",
    "for i in range(n):\n",
    "    li.append(raw_input())\n",
    "for i in li:\n",
    "    j = len(i) - 2\n",
    "    while(j >= 0):\n",
    "        m = check(i[j],i[j+1:]) \n",
    "        if(m <> 'none'):\n",
    "            st = ''.join(i[:j]) + m\n",
    "            lis = list(i[j+1:])\n",
    "            lis.remove(m)\n",
    "            lis.append(i[j])\n",
    "            st += ''.join(sorted(lis))\n",
    "            print st\n",
    "            break\n",
    "        j = j-1\n",
    "    if j < 0:\n",
    "        print 'no answer'"
   ]
  },
  {
   "cell_type": "code",
   "execution_count": 29,
   "metadata": {
    "collapsed": false
   },
   "outputs": [
    {
     "name": "stdout",
     "output_type": "stream",
     "text": [
      "[[0 1 2]\n",
      " [3 4 5]\n",
      " [6 7 8]]\n",
      "Axis 0 Sum: [ 9 12 15]\n",
      "Axis 1 Sum:  [ 3 12 21]\n",
      "(3L,)\n",
      "[[ 0  2  4]\n",
      " [ 3  5  7]\n",
      " [ 6  8 10]]\n",
      "(3L, 1L)\n",
      "[[0]\n",
      " [1]\n",
      " [2]]\n"
     ]
    }
   ],
   "source": [
    "import numpy as np\n",
    "a = np.reshape(np.arange(9),(3,3))\n",
    "print a\n",
    "print \"Axis 0 Sum:\" ,np.sum(a,axis = 0) #Adds the element vertically\n",
    "print \"Axis 1 Sum: \",np.sum(a,axis = 1) #Adds the element horizontally\n",
    "b = np.arange(3)\n",
    "print b.shape\n",
    "print a + b\n",
    "b = b[:,np.newaxis] #changes the dimension of b from 1D to 2D\n",
    "print b.shape\n",
    "print b "
   ]
  },
  {
   "cell_type": "code",
   "execution_count": null,
   "metadata": {
    "collapsed": true
   },
   "outputs": [],
   "source": []
  },
  {
   "cell_type": "code",
   "execution_count": null,
   "metadata": {
    "collapsed": true
   },
   "outputs": [],
   "source": []
  },
  {
   "cell_type": "code",
   "execution_count": null,
   "metadata": {
    "collapsed": true
   },
   "outputs": [],
   "source": []
  },
  {
   "cell_type": "code",
   "execution_count": null,
   "metadata": {
    "collapsed": true
   },
   "outputs": [],
   "source": []
  },
  {
   "cell_type": "code",
   "execution_count": null,
   "metadata": {
    "collapsed": true
   },
   "outputs": [],
   "source": []
  },
  {
   "cell_type": "code",
   "execution_count": null,
   "metadata": {
    "collapsed": true
   },
   "outputs": [],
   "source": []
  },
  {
   "cell_type": "code",
   "execution_count": null,
   "metadata": {
    "collapsed": true
   },
   "outputs": [],
   "source": []
  },
  {
   "cell_type": "code",
   "execution_count": null,
   "metadata": {
    "collapsed": true
   },
   "outputs": [],
   "source": []
  },
  {
   "cell_type": "code",
   "execution_count": null,
   "metadata": {
    "collapsed": true
   },
   "outputs": [],
   "source": []
  },
  {
   "cell_type": "code",
   "execution_count": null,
   "metadata": {
    "collapsed": true
   },
   "outputs": [],
   "source": []
  },
  {
   "cell_type": "code",
   "execution_count": null,
   "metadata": {
    "collapsed": true
   },
   "outputs": [],
   "source": []
  },
  {
   "cell_type": "code",
   "execution_count": null,
   "metadata": {
    "collapsed": true
   },
   "outputs": [],
   "source": []
  }
 ],
 "metadata": {
  "anaconda-cloud": {},
  "kernelspec": {
   "display_name": "Python [Root]",
   "language": "python",
   "name": "Python [Root]"
  },
  "language_info": {
   "codemirror_mode": {
    "name": "ipython",
    "version": 2
   },
   "file_extension": ".py",
   "mimetype": "text/x-python",
   "name": "python",
   "nbconvert_exporter": "python",
   "pygments_lexer": "ipython2",
   "version": "2.7.12"
  }
 },
 "nbformat": 4,
 "nbformat_minor": 0
}
