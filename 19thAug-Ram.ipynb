{
 "cells": [
  {
   "cell_type": "code",
   "execution_count": 3,
   "metadata": {
    "collapsed": false
   },
   "outputs": [
    {
     "name": "stdout",
     "output_type": "stream",
     "text": [
      "[11 18 12 17 13 20 14 13 20 12  9  2  4  6 10  1 19 19  2  2]\n",
      "Original Matrix\n",
      "[[11 18 12 17 13]\n",
      " [20 14 13 20 12]\n",
      " [ 9  2  4  6 10]\n",
      " [ 1 19 19  2  2]]\n",
      "Sorting it column wise axis=0\n",
      "[[ 1  2  4  2  2]\n",
      " [ 9 14 12  6 10]\n",
      " [11 18 13 17 12]\n",
      " [20 19 19 20 13]]\n",
      "Sorting it row wise axis=1\n",
      "[[11 12 13 17 18]\n",
      " [12 13 14 20 20]\n",
      " [ 2  4  6  9 10]\n",
      " [ 1  2  2 19 19]]\n",
      "Sorting through a new column linear\n",
      "[ 1  2  2  2  4  6  9 10 11 12 12 13 13 14 17 18 19 19 20 20]\n"
     ]
    }
   ],
   "source": [
    "import numpy as np\n",
    "a=np.array(np.random.randint(1,21,20))\n",
    "print a\n",
    "a.shape=(4,5)\n",
    "print \"Original Matrix\"\n",
    "print a\n",
    "print \"Sorting it column wise axis=0\"\n",
    "print np.sort(a,axis=0)\n",
    "print \"Sorting it row wise axis=1\"\n",
    "print np.sort(a,axis=1)\n",
    "print \"Sorting through a new column linear\"\n",
    "print np.sort(a,axis=np.newaxis)"
   ]
  },
  {
   "cell_type": "code",
   "execution_count": 4,
   "metadata": {
    "collapsed": false
   },
   "outputs": [
    {
     "name": "stdout",
     "output_type": "stream",
     "text": [
      "4 2 3 5\n",
      "NO\n"
     ]
    }
   ],
   "source": [
    "'''The question for this problem is found in the below link\n",
    "    https://www.hackerrank.com/challenges/kangaroo/submissions/code/25883101\n",
    "'''\n",
    "import sys\n",
    "x1,v1,x2,v2 = raw_input().strip().split(' ')\n",
    "x1,v1,x2,v2 = [float(x1), float(v1), float(x2), float(v2)]\n",
    "try:\n",
    "    '''Checks for exceptions while dividing'''\n",
    "    y = (x1-x2) / (v2-v1)                  #Number of jumps after which they will meet\n",
    "    if y.is_integer() and y>=0:\n",
    "        '''If y is an integer, it means (x1-x2) is completly divisible by (v2-v1) \n",
    "            and they do meet\n",
    "        '''\n",
    "        print \"YES\"\n",
    "    else:\n",
    "        print \"NO\"\n",
    "except:\n",
    "    '''Catches the divide by zero exception if any'''\n",
    "    if x1 != x2:\n",
    "        print \"NO\"\n",
    "    else:\n",
    "        print \"YES\""
   ]
  }
 ],
 "metadata": {
  "kernelspec": {
   "display_name": "Python [Root]",
   "language": "python",
   "name": "Python [Root]"
  },
  "language_info": {
   "codemirror_mode": {
    "name": "ipython",
    "version": 2
   },
   "file_extension": ".py",
   "mimetype": "text/x-python",
   "name": "python",
   "nbconvert_exporter": "python",
   "pygments_lexer": "ipython2",
   "version": "2.7.12"
  }
 },
 "nbformat": 4,
 "nbformat_minor": 0
}
